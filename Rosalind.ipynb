{
 "cells": [
  {
   "cell_type": "code",
   "execution_count": 63,
   "id": "thirty-regard",
   "metadata": {
    "scrolled": false
   },
   "outputs": [],
   "source": [
    "#from DNA to aminoacid\n",
    "\n",
    "codons_map = {\"UUU\":\"F\", \"UUC\":\"F\", \"UUA\":\"L\", \"UUG\":\"L\",\n",
    "    \"UCU\":\"S\", \"UCC\":\"S\", \"UCA\":\"S\", \"UCG\":\"S\",\n",
    "    \"UAU\":\"Y\", \"UAC\":\"Y\", \"UAA\":\"Stop\", \"UAG\":\"Stop\",\n",
    "    \"UGU\":\"C\", \"UGC\":\"C\", \"UGA\":\"Stop\", \"UGG\":\"W\",\n",
    "    \"CUU\":\"L\", \"CUC\":\"L\", \"CUA\":\"L\", \"CUG\":\"L\",\n",
    "    \"CCU\":\"P\", \"CCC\":\"P\", \"CCA\":\"P\", \"CCG\":\"P\",\n",
    "    \"CAU\":\"H\", \"CAC\":\"H\", \"CAA\":\"Q\", \"CAG\":\"Q\",\n",
    "    \"CGU\":\"R\", \"CGC\":\"R\", \"CGA\":\"R\", \"CGG\":\"R\",\n",
    "    \"AUU\":\"I\", \"AUC\":\"I\", \"AUA\":\"I\", \"AUG\":\"M\",\n",
    "    \"ACU\":\"T\", \"ACC\":\"T\", \"ACA\":\"T\", \"ACG\":\"T\",\n",
    "    \"AAU\":\"N\", \"AAC\":\"N\", \"AAA\":\"K\", \"AAG\":\"K\",\n",
    "    \"AGU\":\"S\", \"AGC\":\"S\", \"AGA\":\"R\", \"AGG\":\"R\",\n",
    "    \"GUU\":\"V\", \"GUC\":\"V\", \"GUA\":\"V\", \"GUG\":\"V\",\n",
    "    \"GCU\":\"A\", \"GCC\":\"A\", \"GCA\":\"A\", \"GCG\":\"A\",\n",
    "    \"GAU\":\"D\", \"GAC\":\"D\", \"GAA\":\"E\", \"GAG\":\"E\",\n",
    "    \"GGU\":\"G\", \"GGC\":\"G\", \"GGA\":\"G\", \"GGG\":\"G\",}\n",
    "\n",
    "RNA = \"\"\"\"\"\"\n",
    "file = \"/home/sryaxovsky/rosalind_prtm (2).txt\"\n",
    "with open(file) as fh:\n",
    "    for line in fh:\n",
    "        RNA += line\n",
    "        \n",
    "codons = [RNA[i:i + 3] for i in range(0, len(RNA), 3)]\n",
    "\n",
    "for codon in codons:\n",
    "    if codon in codons_map.keys():\n",
    "        if codons_map[codon] == \"Stop\":\n",
    "            continue\n",
    "        else:\n",
    "            prtm += codons_map[codon]"
   ]
  },
  {
   "cell_type": "code",
   "execution_count": null,
   "id": "natural-robin",
   "metadata": {},
   "outputs": [],
   "source": [
    "#### Calculating Protein Mass \n",
    "#aminoacid = str(input())\n",
    "Monoisotopic_mass_table= {\n",
    "\"A\":   71.03711,\n",
    "\"C\":   103.00919,\n",
    "\"D\":  115.02694,\n",
    "\"E\":   129.04259,\n",
    "\"F\":   147.06841,\n",
    "\"G\":   57.02146,\n",
    "\"H\":   137.05891,\n",
    "\"I\":   113.08406,\n",
    "\"K\":   128.09496,\n",
    "\"L\":   113.08406,\n",
    "\"M\":   131.04049,\n",
    "\"N\":   114.04293,\n",
    "\"P\":   97.05276,\n",
    "\"Q\":   128.05858,\n",
    "\"R\":   156.10111,\n",
    "\"S\":   87.03203,\n",
    "\"T\":   101.04768,\n",
    "\"V\":   99.06841,\n",
    "\"W\":   186.07931,\n",
    "\"Y\":   163.06333, \n",
    "}\n",
    "mass = []\n",
    "for line in aminoacid:\n",
    "    if line in Monoisotopic_mass_table.keys():\n",
    "        mass.append(Monoisotopic_mass_table[line])\n",
    "#print(round(sum(mass), 3))\n",
    "#print(sum(mass))"
   ]
  },
  {
   "cell_type": "code",
   "execution_count": 104,
   "id": "possible-current",
   "metadata": {},
   "outputs": [
    {
     "name": "stdout",
     "output_type": "stream",
     "text": [
      "\n",
      "\n"
     ]
    }
   ],
   "source": [
    "#### ATGC number\n",
    "seq = \"AAGGTATAGGTTGGACTGCAATCGAATCTATTTAGGTTAATGTTTTTGTAGCATAGTTCCTTTTCTCTTCATGTTTCCGAAGAGTGCGGTTCCTAAAAGAACCACATTTAGCCAAACAATATGTACCTATATCATCTCTGATAGGTCCGGGGAAGAAGATGTTACGCTACAACCATTTGGTACAGAGGCAGCTGACAATACGTTTCAACGCAATTATCGGAGTTGACATGTGATTGATACAAAGAAAGTTCTAGATTTAGTTTAAGTAGGGGCTATCTCCGGCGTCAGAAAGTAACGTCGCTGATACTATTTGAGGTTATTACACGTTAGTCATACTTTGCGTTCATGTTCCACTTTGCACGGTGACAACTAGAGTGTAATCAGACTGTCACGAGATGATAATTGTTAAAGTGCGCTAGCTTTACTACTAGGAAAGCATTATCAGCGAACGAGCGTACCATGTTTGATCACTATACTGTCTGAGCTCGACGCCATACTCTTATCAGTGTGGATGAACCTGATGAGTCAGGCCCTTTATTACAGGGAAGGGATTTAGGAGCCCTCGCGAATAATCCCGGTGGCATAGATATAAGTACTATGATATTATATATGTGGCGCATGAGCCGAAGCGAGGTAGTATGATATCATCTTGGTCGAATTTTCTTTGTTTATGTCATCTCTTGGGCGGCATAAACGCTCTCCTGCCGAGCCGAACGTCATTGCCCCGCCTTGGAACCATCGGCCTGTACGAGCTTATCGTGGATTCATCCCAATAGAACGGCTAGTTCCTAAAAATACGGCTCTACTCTACATGCTA\"\n",
    "a, c, g, t = [seq.count(\"A\"),seq.count(\"C\"), seq.count(\"G\"), seq.count(\"T\")]\n",
    "#print(a,c,g,t)\n",
    "\n",
    "\n",
    "##### UniProt biologycal fuctions\n",
    "\n",
    "import requests\n",
    "import ast\n",
    "\n",
    "#id = input()\n",
    "url = f\"https://www.uniprot.org/uniprot/{id}.txt\"\n",
    "r = requests.get(url)\n",
    "#print(r.text)\n",
    "\n",
    "##### Hemming value\n",
    "counter = 0\n",
    "hemming_value = 0\n",
    "s1 = str(input())\n",
    "s2 = str(input())\n",
    "for n in s1:\n",
    "    if n != s2[counter]:\n",
    "        hemming_value += 1\n",
    "    counter += 1\n",
    "#print(hemming_value)"
   ]
  },
  {
   "cell_type": "code",
   "execution_count": null,
   "id": "english-session",
   "metadata": {},
   "outputs": [],
   "source": [
    "### motif in DNA\n",
    "n1 = 0\n",
    "counter = 0\n",
    "s = str(input())\n",
    "t = str(input())\n",
    "while counter != len(s):\n",
    "    if s[n1:n1+len(t)] == t:\n",
    "        print(t)\n",
    "    n1 += 0\n",
    "    counter += 1"
   ]
  },
  {
   "cell_type": "code",
   "execution_count": null,
   "id": "governing-remove",
   "metadata": {},
   "outputs": [],
   "source": []
  },
  {
   "cell_type": "code",
   "execution_count": null,
   "id": "thirty-diana",
   "metadata": {},
   "outputs": [],
   "source": []
  }
 ],
 "metadata": {
  "kernelspec": {
   "display_name": "Python 3",
   "language": "python",
   "name": "python3"
  },
  "language_info": {
   "codemirror_mode": {
    "name": "ipython",
    "version": 3
   },
   "file_extension": ".py",
   "mimetype": "text/x-python",
   "name": "python",
   "nbconvert_exporter": "python",
   "pygments_lexer": "ipython3",
   "version": "3.8.5"
  }
 },
 "nbformat": 4,
 "nbformat_minor": 5
}
